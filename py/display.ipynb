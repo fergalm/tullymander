{
  "cells": [
    {
      "cell_type": "markdown",
      "metadata": {},
      "source": [
        "\n",
        "# Tullymander\n",
        "\n",
        "This tool simulates the results of different elections for Baltimore County Council districts, had the districts been drawn differently. By moving precincts between districts, you can see how different candidates would have performed in those districts as their boundaries changes.\n",
        "\n",
        "## To start\n",
        "Select the block of code below and hit [SHIFT] + [ENTER]. This will cause a plot, and a table to appear. The table shows the population of each district and the net vote share for a range of candidates in recent elections (net vote share is the difference between the number of votes for the candidate, and the number for the most popular opponent).\n",
        "\n",
        "Move your mouse over a precinct and type the number of the district you want that precinct to be moved to. For example, point your mouse at one of the precincts in the extreme north of the county, and assign them to district 7 by hitting the [7] key. The precinct will change colour, and the table with update to show the population and vote shares of the newly drawn districts 3 and 7.\n",
        "\n"
      ]
    },
    {
      "cell_type": "code",
      "source": [
        "%%javascript\n",
        "IPython.OutputArea.prototype._should_scroll = function(lines) {\n",
        "    return false;\n",
        "}\n",
        "\n"
      ],
      "metadata": {},
      "outputs": [],
      "execution_count": 0
    },
    {
      "cell_type": "code",
      "source": [
        "%matplotlib notebook\n",
        "from IPython.display import display\n",
        "import ipywidgets\n",
        "import iface\n",
        "\n",
        "console = ipywidgets.Output()\n",
        "configfile = \"../config/council.toml\"\n",
        "widgets = iface.setup(configfile, console)\n",
        "display(*widgets)"
      ],
      "metadata": {},
      "outputs": [],
      "execution_count": 0
    }
  ],
  "metadata": {
    "kernelspec": {
      "display_name": "Python 3",
      "language": "python",
      "name": "python3"
    },
    "language_info": {
      "codemirror_mode": {
        "name": "ipython",
        "version": 3
      },
      "file_extension": ".py",
      "mimetype": "text/x-python",
      "name": "python",
      "nbconvert_exporter": "python",
      "pygments_lexer": "ipython3",
      "version": "3.7.0"
    }
  },
  "nbformat": 4,
  "nbformat_minor": 2
}